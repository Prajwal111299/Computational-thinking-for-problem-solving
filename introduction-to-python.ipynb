{
 "cells": [
  {
   "cell_type": "markdown",
   "id": "54a142e8",
   "metadata": {
    "papermill": {
     "duration": 0.017886,
     "end_time": "2021-12-06T12:47:13.392515",
     "exception": false,
     "start_time": "2021-12-06T12:47:13.374629",
     "status": "completed"
    },
    "tags": []
   },
   "source": []
  },
  {
   "cell_type": "code",
   "execution_count": 1,
   "id": "202992ed",
   "metadata": {
    "execution": {
     "iopub.execute_input": "2021-12-06T12:47:13.431955Z",
     "iopub.status.busy": "2021-12-06T12:47:13.430203Z",
     "iopub.status.idle": "2021-12-06T12:47:13.445187Z",
     "shell.execute_reply": "2021-12-06T12:47:13.445699Z",
     "shell.execute_reply.started": "2021-12-06T10:31:35.431211Z"
    },
    "papermill": {
     "duration": 0.036168,
     "end_time": "2021-12-06T12:47:13.446058",
     "exception": false,
     "start_time": "2021-12-06T12:47:13.409890",
     "status": "completed"
    },
    "tags": []
   },
   "outputs": [
    {
     "name": "stdout",
     "output_type": "stream",
     "text": [
      "1\n",
      "2\n",
      "3\n",
      "4\n",
      "5\n",
      "6\n",
      "7\n",
      "8\n"
     ]
    }
   ],
   "source": [
    "#Python code ->\n",
    "values = [-7,3,-8,0,4,-2,19,11]\n",
    "count = 0\n",
    "for value in values :\n",
    "    count = count+1\n",
    "    print(count)"
   ]
  },
  {
   "cell_type": "markdown",
   "id": "f5c4ac4a",
   "metadata": {
    "papermill": {
     "duration": 0.016092,
     "end_time": "2021-12-06T12:47:13.479196",
     "exception": false,
     "start_time": "2021-12-06T12:47:13.463104",
     "status": "completed"
    },
    "tags": []
   },
   "source": [
    "**VARIABLES** :\n",
    "A meaningful symbol or name for a piece of data in memory. A variables has an associated value.\n",
    "Eg-> variable name : \"age\"\n",
    "     variable value : 25\n",
    "     value can change during the execution of the program\n",
    "     we can assign it a new value using the equals '='\n",
    "Eg->\n",
    "age = 25\n",
    "name = \"Brian\"\n",
    "is_student = true\n",
    "my_age = age\n",
    "age = 26\n",
    "quiz1 = quiz2 = quiz3 = 100\n",
    "population, growthrate = 0.01 //simultaniously\n",
    "\n",
    "**Arithmetic operations**->\n",
    "\n",
    "num1, num2 = 5.2,,,,\n",
    "sum=nem1+num2,,,,\n",
    "diff=num1-num2,,,,\n",
    "product=num1 x num2,,,,\n",
    "power=num1 xx num2,,,,\n",
    "quotient=num1/num2,,,,\n",
    "integer_quotient = num1//num2,,,,\n",
    "modules = num1%num2\n"
   ]
  },
  {
   "cell_type": "markdown",
   "id": "b982a83a",
   "metadata": {
    "papermill": {
     "duration": 0.016044,
     "end_time": "2021-12-06T12:47:13.511658",
     "exception": false,
     "start_time": "2021-12-06T12:47:13.495614",
     "status": "completed"
    },
    "tags": []
   },
   "source": [
    "**SYNTAX ERRORS** -> An error in which the code is not expressed using valid syntax. That is, the computer cannot understand what you're telling to do. English analogy : \"Dog red arrive freedom\".\n",
    "\n",
    "**RUNTIME ERRORS** -> Code is expressed using valid syntax but computer cannot evaluate it. Sometimes referred to as an \"exception\"."
   ]
  },
  {
   "cell_type": "code",
   "execution_count": 2,
   "id": "ad5e9384",
   "metadata": {
    "execution": {
     "iopub.execute_input": "2021-12-06T12:47:13.547720Z",
     "iopub.status.busy": "2021-12-06T12:47:13.547095Z",
     "iopub.status.idle": "2021-12-06T12:47:13.551389Z",
     "shell.execute_reply": "2021-12-06T12:47:13.552003Z",
     "shell.execute_reply.started": "2021-12-06T11:16:45.856996Z"
    },
    "papermill": {
     "duration": 0.024005,
     "end_time": "2021-12-06T12:47:13.552179",
     "exception": false,
     "start_time": "2021-12-06T12:47:13.528174",
     "status": "completed"
    },
    "tags": []
   },
   "outputs": [],
   "source": [
    "#Conditional statements\n",
    "#if statements :\n",
    "a,b=25,4\n",
    "larger=a\n",
    "if b>larger:\n",
    "    larger=b\n",
    "    print(\"larger is\",larger)"
   ]
  },
  {
   "cell_type": "code",
   "execution_count": 3,
   "id": "5c7ea4e4",
   "metadata": {
    "execution": {
     "iopub.execute_input": "2021-12-06T12:47:13.589088Z",
     "iopub.status.busy": "2021-12-06T12:47:13.588366Z",
     "iopub.status.idle": "2021-12-06T12:47:13.593624Z",
     "shell.execute_reply": "2021-12-06T12:47:13.594259Z",
     "shell.execute_reply.started": "2021-12-06T10:53:46.619680Z"
    },
    "papermill": {
     "duration": 0.025705,
     "end_time": "2021-12-06T12:47:13.594423",
     "exception": false,
     "start_time": "2021-12-06T12:47:13.568718",
     "status": "completed"
    },
    "tags": []
   },
   "outputs": [
    {
     "name": "stdout",
     "output_type": "stream",
     "text": [
      "25 is not divisible by 4\n"
     ]
    }
   ],
   "source": [
    "#if-else statements :\n",
    "a,b=25,4\n",
    "if a%b==0:\n",
    "    print(a,\"is devisible by\",b)\n",
    "else:\n",
    "        #a%b!=0\n",
    "        print(a,\"is not divisible by\",b)"
   ]
  },
  {
   "cell_type": "code",
   "execution_count": 4,
   "id": "70079302",
   "metadata": {
    "execution": {
     "iopub.execute_input": "2021-12-06T12:47:13.630727Z",
     "iopub.status.busy": "2021-12-06T12:47:13.630084Z",
     "iopub.status.idle": "2021-12-06T12:47:13.635498Z",
     "shell.execute_reply": "2021-12-06T12:47:13.636145Z",
     "shell.execute_reply.started": "2021-12-06T11:07:28.957340Z"
    },
    "papermill": {
     "duration": 0.025201,
     "end_time": "2021-12-06T12:47:13.636319",
     "exception": false,
     "start_time": "2021-12-06T12:47:13.611118",
     "status": "completed"
    },
    "tags": []
   },
   "outputs": [
    {
     "name": "stdout",
     "output_type": "stream",
     "text": [
      "55 is largest\n"
     ]
    }
   ],
   "source": [
    "#Logical operators :\n",
    "#find the largest number\n",
    "x,y,z=55,38,29\n",
    "if x>=y and x>=2:\n",
    "    print(x,\"is largest\")\n",
    "elif y>=x and y>=z:\n",
    "    print(y,\"is largest\")\n",
    "else:\n",
    "    print(z,\"is largest\")"
   ]
  },
  {
   "cell_type": "markdown",
   "id": "66723ae4",
   "metadata": {
    "papermill": {
     "duration": 0.016537,
     "end_time": "2021-12-06T12:47:13.669761",
     "exception": false,
     "start_time": "2021-12-06T12:47:13.653224",
     "status": "completed"
    },
    "tags": []
   },
   "source": [
    "**LISTS** ->\n",
    "\n",
    "**Why use lists ?** : Add values to the collection without having to declare new variables. Remove elements from the list. Keep track of the elements order. Perform operations like sorting the values or determining whether the list contains an element."
   ]
  },
  {
   "cell_type": "code",
   "execution_count": 5,
   "id": "fb312f4d",
   "metadata": {
    "execution": {
     "iopub.execute_input": "2021-12-06T12:47:13.709180Z",
     "iopub.status.busy": "2021-12-06T12:47:13.708425Z",
     "iopub.status.idle": "2021-12-06T12:47:13.712192Z",
     "shell.execute_reply": "2021-12-06T12:47:13.712779Z",
     "shell.execute_reply.started": "2021-12-06T11:14:12.461014Z"
    },
    "papermill": {
     "duration": 0.026432,
     "end_time": "2021-12-06T12:47:13.712961",
     "exception": false,
     "start_time": "2021-12-06T12:47:13.686529",
     "status": "completed"
    },
    "tags": []
   },
   "outputs": [
    {
     "name": "stdout",
     "output_type": "stream",
     "text": [
      "87\n",
      "94\n"
     ]
    }
   ],
   "source": [
    "#list indices\n",
    "score = [94,87,92]\n",
    "print(score[1])  #print87\n",
    "score[2]=96\n",
    "#new [94,87,96]\n",
    "i=0\n",
    "print(score[i])  #print94"
   ]
  },
  {
   "cell_type": "code",
   "execution_count": 6,
   "id": "88a3054e",
   "metadata": {
    "execution": {
     "iopub.execute_input": "2021-12-06T12:47:13.752505Z",
     "iopub.status.busy": "2021-12-06T12:47:13.750417Z",
     "iopub.status.idle": "2021-12-06T12:47:13.755362Z",
     "shell.execute_reply": "2021-12-06T12:47:13.754771Z",
     "shell.execute_reply.started": "2021-12-06T11:17:15.277391Z"
    },
    "papermill": {
     "duration": 0.024892,
     "end_time": "2021-12-06T12:47:13.755501",
     "exception": false,
     "start_time": "2021-12-06T12:47:13.730609",
     "status": "completed"
    },
    "tags": []
   },
   "outputs": [],
   "source": [
    "#Adding elements to lists :\n",
    "\n",
    "names = [\"Alice\",\"Brian\",\"Chris\"]\n",
    "#append element to end of list\n",
    "names.append(\"Sue\")\n",
    "names.insert(3,\"Kim\")   #at index 3"
   ]
  },
  {
   "cell_type": "code",
   "execution_count": 7,
   "id": "361af095",
   "metadata": {
    "execution": {
     "iopub.execute_input": "2021-12-06T12:47:13.794393Z",
     "iopub.status.busy": "2021-12-06T12:47:13.793661Z",
     "iopub.status.idle": "2021-12-06T12:47:13.798546Z",
     "shell.execute_reply": "2021-12-06T12:47:13.799176Z",
     "shell.execute_reply.started": "2021-12-06T11:21:32.119259Z"
    },
    "papermill": {
     "duration": 0.025869,
     "end_time": "2021-12-06T12:47:13.799358",
     "exception": false,
     "start_time": "2021-12-06T12:47:13.773489",
     "status": "completed"
    },
    "tags": []
   },
   "outputs": [],
   "source": [
    "#Removing elements from lists :\n",
    "breeds = [\"beagle\",\"pug\",\"corgi\",\"hound\",\"painter\",\"corgi\"]\n",
    "breeds.remove(\"corgi\")   #removes first instance of corgi\n",
    "\n",
    "colors=[\"red\",\"purple\",\"blue\",\"green\",\"yellow\"]\n",
    "color=colors.pop(3)      #remove and return by index"
   ]
  },
  {
   "cell_type": "code",
   "execution_count": 8,
   "id": "2bd99cea",
   "metadata": {
    "execution": {
     "iopub.execute_input": "2021-12-06T12:47:13.838080Z",
     "iopub.status.busy": "2021-12-06T12:47:13.837391Z",
     "iopub.status.idle": "2021-12-06T12:47:13.842566Z",
     "shell.execute_reply": "2021-12-06T12:47:13.841864Z",
     "shell.execute_reply.started": "2021-12-06T11:25:54.099247Z"
    },
    "papermill": {
     "duration": 0.0256,
     "end_time": "2021-12-06T12:47:13.842897",
     "exception": true,
     "start_time": "2021-12-06T12:47:13.817297",
     "status": "failed"
    },
    "tags": []
   },
   "outputs": [
    {
     "ename": "SyntaxError",
     "evalue": "invalid syntax (4053642901.py, line 7)",
     "output_type": "error",
     "traceback": [
      "\u001b[0;36m  File \u001b[0;32m\"/tmp/ipykernel_20/4053642901.py\"\u001b[0;36m, line \u001b[0;32m7\u001b[0m\n\u001b[0;31m    if number%2==0\u001b[0m\n\u001b[0m                  ^\u001b[0m\n\u001b[0;31mSyntaxError\u001b[0m\u001b[0;31m:\u001b[0m invalid syntax\n"
     ]
    }
   ],
   "source": [
    "#Iterations :\n",
    "#For loops : Count the numbers of even values\n",
    "\n",
    "numbers = [7,3,8,5,4,2,19,11]\n",
    "count=0\n",
    "for number in numbers:\n",
    "    if number%2==0\n",
    "    count+=1        #same as count=count+1\n",
    "    print(\"even numbers:\",count)\n"
   ]
  },
  {
   "cell_type": "code",
   "execution_count": null,
   "id": "e62fa563",
   "metadata": {
    "execution": {
     "iopub.execute_input": "2021-12-06T11:42:44.804165Z",
     "iopub.status.busy": "2021-12-06T11:42:44.803829Z",
     "iopub.status.idle": "2021-12-06T11:42:44.812880Z",
     "shell.execute_reply": "2021-12-06T11:42:44.811949Z",
     "shell.execute_reply.started": "2021-12-06T11:42:44.804132Z"
    },
    "papermill": {
     "duration": null,
     "end_time": null,
     "exception": null,
     "start_time": null,
     "status": "pending"
    },
    "tags": []
   },
   "outputs": [],
   "source": [
    "#For loops using ranges : see if the list is sorted in increasing order\n",
    "ages = [23,45,62,27]\n",
    "is_sorted= True\n",
    "length = len(ages)\n",
    "for i in range(1,length) :\n",
    "    if ages[i]<=ages[i-1] :\n",
    "        is_sorted= False\n",
    "        break\n",
    "    if is_sorted:\n",
    "        print(\"the list is sorted\")\n",
    "    else:\n",
    "        print(\"the list is not sorted\")"
   ]
  },
  {
   "cell_type": "code",
   "execution_count": null,
   "id": "ae46de8e",
   "metadata": {
    "execution": {
     "iopub.execute_input": "2021-12-06T11:46:09.967483Z",
     "iopub.status.busy": "2021-12-06T11:46:09.967151Z",
     "iopub.status.idle": "2021-12-06T11:46:17.495541Z",
     "shell.execute_reply": "2021-12-06T11:46:17.494885Z",
     "shell.execute_reply.started": "2021-12-06T11:46:09.967450Z"
    },
    "papermill": {
     "duration": null,
     "end_time": null,
     "exception": null,
     "start_time": null,
     "status": "pending"
    },
    "tags": []
   },
   "outputs": [],
   "source": [
    "#While loops : ask the user to enter a positive number\n",
    "value=input(\"Please enter a positive number :\")\n",
    "number=int(value)\n",
    "while number<=0:\n",
    "    print(\"That number is not positive!\")\n",
    "    value=input(\"Please enter a positive number:\")\n",
    "    number=int(value)"
   ]
  },
  {
   "cell_type": "markdown",
   "id": "4d7c30bf",
   "metadata": {
    "papermill": {
     "duration": null,
     "end_time": null,
     "exception": null,
     "start_time": null,
     "status": "pending"
    },
    "tags": []
   },
   "source": [
    "**WHILE LOOP INSTEAD OF FOR LOOP ?**\n",
    "\n",
    "When the number of iterations through the loop is contigent on a condition."
   ]
  },
  {
   "cell_type": "code",
   "execution_count": null,
   "id": "930020c4",
   "metadata": {
    "execution": {
     "iopub.execute_input": "2021-12-06T11:51:52.863398Z",
     "iopub.status.busy": "2021-12-06T11:51:52.862724Z",
     "iopub.status.idle": "2021-12-06T11:51:52.870521Z",
     "shell.execute_reply": "2021-12-06T11:51:52.869267Z",
     "shell.execute_reply.started": "2021-12-06T11:51:52.863352Z"
    },
    "papermill": {
     "duration": null,
     "end_time": null,
     "exception": null,
     "start_time": null,
     "status": "pending"
    },
    "tags": []
   },
   "outputs": [],
   "source": [
    "#Functions -> calculate hypotenuse of a right triangle\n",
    "def calculate_hypotenuse(a,b):\n",
    "    return((a**2)+(b**2))**0.5\n",
    "\n",
    "#this is the program\n",
    "c=calculate_hypotenuse(3,4)\n",
    "print(c)"
   ]
  },
  {
   "cell_type": "code",
   "execution_count": null,
   "id": "1a524abf",
   "metadata": {
    "execution": {
     "iopub.execute_input": "2021-12-06T12:00:17.437618Z",
     "iopub.status.busy": "2021-12-06T12:00:17.437137Z",
     "iopub.status.idle": "2021-12-06T12:00:17.444800Z",
     "shell.execute_reply": "2021-12-06T12:00:17.443276Z",
     "shell.execute_reply.started": "2021-12-06T12:00:17.437563Z"
    },
    "papermill": {
     "duration": null,
     "end_time": null,
     "exception": null,
     "start_time": null,
     "status": "pending"
    },
    "tags": []
   },
   "outputs": [],
   "source": [
    "#Tuples : Multiple return values\n",
    "def three_largest(input_list):\n",
    "    list_copy=input_list.copy()\n",
    "max1=max(list_copy)\n",
    "    list_copy.remove(max1)\n",
    "          max2=max(list_copy)\n",
    "    list_copy.remove(max2)\n",
    "          max3=max(list_copy)\n",
    "    return(max1,max2,max3)     #this is tuple"
   ]
  },
  {
   "cell_type": "markdown",
   "id": "2b97e9ab",
   "metadata": {
    "papermill": {
     "duration": null,
     "end_time": null,
     "exception": null,
     "start_time": null,
     "status": "pending"
    },
    "tags": []
   },
   "source": [
    "**Tuples vs Lists** :\n",
    "Always use a tuple when you want a function to return multiple values. Tuples cannot have elements added or removed. Tuples do not imply that the elements belong together as part of a collection."
   ]
  },
  {
   "cell_type": "code",
   "execution_count": null,
   "id": "74f6817c",
   "metadata": {
    "execution": {
     "iopub.execute_input": "2021-12-06T12:35:42.340048Z",
     "iopub.status.busy": "2021-12-06T12:35:42.339598Z",
     "iopub.status.idle": "2021-12-06T12:35:42.346928Z",
     "shell.execute_reply": "2021-12-06T12:35:42.346036Z",
     "shell.execute_reply.started": "2021-12-06T12:35:42.340016Z"
    },
    "papermill": {
     "duration": null,
     "end_time": null,
     "exception": null,
     "start_time": null,
     "status": "pending"
    },
    "tags": []
   },
   "outputs": [],
   "source": [
    "#Objects & Classes -> represent a cat's name,age and color.\n",
    "\n",
    "class cat:\n",
    "    def_init_(self,init_name,init_age,init_color):\n",
    "        self.name=init_name\n",
    "        self.age=init_age\n",
    "        self.color=init_color\n",
    "james=cat('james',3,'grey')   #this is an object\n",
    "agnes=cat('agnes',4,'black')  #so this is\n",
    "print(james.color)\n",
    "agnes.age=5"
   ]
  },
  {
   "cell_type": "markdown",
   "id": "f66392b1",
   "metadata": {
    "papermill": {
     "duration": null,
     "end_time": null,
     "exception": null,
     "start_time": null,
     "status": "pending"
    },
    "tags": []
   },
   "source": [
    "An object is a named collection of variables(attributes) that each have own name. A class is the blueprint of an object, which defines the names of the attributes and any functions(operations)."
   ]
  },
  {
   "cell_type": "code",
   "execution_count": null,
   "id": "443dddc4",
   "metadata": {
    "execution": {
     "iopub.execute_input": "2021-12-06T12:46:26.506587Z",
     "iopub.status.busy": "2021-12-06T12:46:26.506237Z",
     "iopub.status.idle": "2021-12-06T12:46:26.513796Z",
     "shell.execute_reply": "2021-12-06T12:46:26.512733Z",
     "shell.execute_reply.started": "2021-12-06T12:46:26.506557Z"
    },
    "papermill": {
     "duration": null,
     "end_time": null,
     "exception": null,
     "start_time": null,
     "status": "pending"
    },
    "tags": []
   },
   "outputs": [],
   "source": [
    "#Credit card validity program using tuples :\n",
    "\n",
    "def verify(number):\n",
    "    1=list(number)\n",
    "    l1=[]\n",
    "    for 1 in 1:\n",
    "        if i!=\"-\"\n",
    "        l1.append(int(i))\n",
    "#checking 1st condition:\n",
    "if l1[0]!=4:\n",
    "    return 1\n",
    "#checking 2nd condition:\n",
    "elif (l1[3])!=l1[4]+1:\n",
    "    return 2\n",
    "#checking 3rd condition:\n",
    "elif sum(l1)%4!=0\n",
    "    return 3\n",
    "#checking 4th condition:\n",
    "elif ((l1[0]*10+l1[1])+(l1[0]*10+l1[7]))!=100:\n",
    "    return 4\n",
    "else:\n",
    "    return 2\n",
    "input=\"4894-3460-2754\"\n",
    "output=verify(input)\n",
    "      print(output)"
   ]
  }
 ],
 "metadata": {
  "kernelspec": {
   "display_name": "Python 3",
   "language": "python",
   "name": "python3"
  },
  "language_info": {
   "codemirror_mode": {
    "name": "ipython",
    "version": 3
   },
   "file_extension": ".py",
   "mimetype": "text/x-python",
   "name": "python",
   "nbconvert_exporter": "python",
   "pygments_lexer": "ipython3",
   "version": "3.7.12"
  },
  "papermill": {
   "default_parameters": {},
   "duration": 11.032952,
   "end_time": "2021-12-06T12:47:14.475911",
   "environment_variables": {},
   "exception": true,
   "input_path": "__notebook__.ipynb",
   "output_path": "__notebook__.ipynb",
   "parameters": {},
   "start_time": "2021-12-06T12:47:03.442959",
   "version": "2.3.3"
  }
 },
 "nbformat": 4,
 "nbformat_minor": 5
}
